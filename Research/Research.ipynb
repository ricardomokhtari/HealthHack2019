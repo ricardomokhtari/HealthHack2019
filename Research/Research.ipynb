{
 "cells": [
  {
   "cell_type": "code",
   "execution_count": 1,
   "metadata": {
    "collapsed": true
   },
   "outputs": [],
   "source": [
    "import pandas\n",
    "import numpy\n",
    "import matplotlib.pyplot as plt"
   ]
  },
  {
   "cell_type": "code",
   "execution_count": 22,
   "metadata": {},
   "outputs": [
    {
     "data": {
      "image/png": "[encoded data removed]",
      "text/plain": [
       "<matplotlib.figure.Figure at 0x10ad81da0>"
      ]
     },
     "metadata": {},
     "output_type": "display_data"
    }
   ],
   "source": [
    "nod_down = open('nod_down_2.txt', 'r')\n",
    "nod_down = nod_down.read().split('\\n')[1::5]\n",
    "\n",
    "x = []\n",
    "y = []\n",
    "z = []\n",
    "\n",
    "for i in range(len(nod_down)):\n",
    "    chunk = nod_down[i].split(',')\n",
    "    x.append(float(chunk[0]))\n",
    "    y.append(float(chunk[1]))\n",
    "    z.append(float(chunk[2]))\n",
    "\n",
    "time = list(range(0,50*len(x), 50))\n",
    "plt.plot(x, time)\n",
    "plt.show()"
   ]
  },
  {
   "cell_type": "code",
   "execution_count": 27,
   "metadata": {},
   "outputs": [
    {
     "data": {
      "text/plain": [
       "[0,\n",
       " 50,\n",
       " 100,\n",
       " 150,\n",
       " 200,\n",
       " 250,\n",
       " 300,\n",
       " 350,\n",
       " 400,\n",
       " 450,\n",
       " 500,\n",
       " 550,\n",
       " 600,\n",
       " 650,\n",
       " 700,\n",
       " 750,\n",
       " 800,\n",
       " 850,\n",
       " 900,\n",
       " 950,\n",
       " 1000,\n",
       " 1050,\n",
       " 1100,\n",
       " 1150,\n",
       " 1200,\n",
       " 1250,\n",
       " 1300,\n",
       " 1350,\n",
       " 1400,\n",
       " 1450,\n",
       " 1500,\n",
       " 1550,\n",
       " 1600,\n",
       " 1650,\n",
       " 1700,\n",
       " 1750,\n",
       " 1800,\n",
       " 1850,\n",
       " 1900,\n",
       " 1950,\n",
       " 2000,\n",
       " 2050,\n",
       " 2100,\n",
       " 2150,\n",
       " 2200,\n",
       " 2250,\n",
       " 2300,\n",
       " 2350,\n",
       " 2400,\n",
       " 2450,\n",
       " 2500,\n",
       " 2550,\n",
       " 2600,\n",
       " 2650,\n",
       " 2700,\n",
       " 2750,\n",
       " 2800,\n",
       " 2850,\n",
       " 2900,\n",
       " 2950,\n",
       " 3000,\n",
       " 3050,\n",
       " 3100,\n",
       " 3150,\n",
       " 3200,\n",
       " 3250,\n",
       " 3300,\n",
       " 3350]"
      ]
     },
     "execution_count": 27,
     "metadata": {},
     "output_type": "execute_result"
    }
   ],
   "source": [
    "list(range(0,50*len(x), 50))"
   ]
  },
  {
   "cell_type": "code",
   "execution_count": null,
   "metadata": {
    "collapsed": true
   },
   "outputs": [],
   "source": []
  }
 ],
 "metadata": {
  "kernelspec": {
   "display_name": "Python 3",
   "language": "python",
   "name": "python3"
  },
  "language_info": {
   "codemirror_mode": {
    "name": "ipython",
    "version": 3
   },
   "file_extension": ".py",
   "mimetype": "text/x-python",
   "name": "python",
   "nbconvert_exporter": "python",
   "pygments_lexer": "ipython3",
   "version": "3.6.5"
  }
 },
 "nbformat": 4,
 "nbformat_minor": 2
}
